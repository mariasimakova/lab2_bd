{
 "cells": [
  {
   "cell_type": "code",
   "execution_count": 259,
   "metadata": {},
   "outputs": [],
   "source": [
    "# libraries\n",
    "import datetime\n",
    "import time\n",
    "import json\n",
    "from pymongo import MongoClient\n",
    "from faker import Faker\n",
    "import random"
   ]
  },
  {
   "cell_type": "markdown",
   "metadata": {},
   "source": [
    "# Data generation"
   ]
  },
  {
   "cell_type": "code",
   "execution_count": 260,
   "metadata": {},
   "outputs": [],
   "source": [
    "class Lab2models:\n",
    "    def data_generator(self, num_companies):\n",
    "        Faker.seed(42) # same people\n",
    "        random.seed(42) # for generating the same number of employees per company\n",
    "        # Connect to MongoDB - Note: added my local host\n",
    "        client = MongoClient('mongodb://localhost:27017/')\n",
    "        db = client['lab2']\n",
    "        # delete collection data if exists from all of the 3 models\n",
    "        db.drop_collection(\"m1_people\")\n",
    "        db.drop_collection(\"m1_companies\")\n",
    "        db.drop_collection(\"m2_people\")\n",
    "        db.drop_collection(\"m3_companies\")\n",
    "        # create and obtain collections\n",
    "        m1_people = db.create_collection('m1_people')\n",
    "        m1_companies = db.create_collection('m1_companies')\n",
    "        m2_people = db.create_collection('m2_people')\n",
    "        m3_companies = db.create_collection('m3_companies')\n",
    "        # It will generate data in spanish: 'es_ES'\n",
    "        fake = Faker(['es_ES'])\n",
    "        # Generate company data\n",
    "        company_data = []\n",
    "        for i in range(num_companies):\n",
    "            company_name = fake.company()\n",
    "            domain = fake.domain_name()\n",
    "            company = {\n",
    "                \"domain\": domain,\n",
    "                \"email\": f\"info@{domain}\",\n",
    "                \"name\": company_name,\n",
    "                \"url\": f\"www.{domain}\",\n",
    "                \"vatNumber\": fake.bothify(text='??######')\n",
    "            }\n",
    "            company_data.append(company)\n",
    "        \n",
    "        # Insert companies for Model 1\n",
    "        company_ids = m1_companies.insert_many(company_data).inserted_ids\n",
    "\n",
    "        # Generate random number of employees per company\n",
    "        employees_per_company = [random.randint(25, 50) for _ in range(num_companies)]\n",
    "        total_employees = sum(employees_per_company)\n",
    "        \n",
    "        # Generate people's data\n",
    "        person_data = []\n",
    "        employee_count = 0\n",
    "        company_idx = 0\n",
    "        \n",
    "        # For each company, generate the specific number of employees\n",
    "        for company_idx in range(num_companies):\n",
    "            for _ in range(employees_per_company[company_idx]):\n",
    "                if fake.random_element(elements=(True, False)):\n",
    "                    first_name = fake.first_name_male()\n",
    "                    sex = 'M'\n",
    "                else:\n",
    "                    first_name = fake.first_name_female()\n",
    "                    sex = 'F'\n",
    "                    \n",
    "                last_name = fake.last_name()\n",
    "                full_name = f\"{first_name} {last_name}\"\n",
    "                birth_date = fake.date_of_birth(minimum_age=20, maximum_age=65)\n",
    "                birth_datetime = datetime.datetime.combine(birth_date, datetime.time())\n",
    "                age = (datetime.datetime.now().date() - birth_date).days // 365\n",
    "                \n",
    "                username_full = f\"{first_name.lower()}.{last_name.lower()}\".replace(\" \", \"\")\n",
    "                username_short = f\"{first_name.lower()[0]}{last_name.lower()}\".replace(\" \", \"\")\n",
    "                \n",
    "                person = {\n",
    "                    \"age\": age,\n",
    "                    \"companyEmail\": f\"{username_full}@{company_data[company_idx]['domain']}\",\n",
    "                    \"dateOfBirth\": birth_datetime,\n",
    "                    \"email\": f\"{username_short}@{fake.free_email_domain()}\",\n",
    "                    \"firstName\": first_name,\n",
    "                    \"fullName\": full_name,\n",
    "                    \"sex\": sex \n",
    "                }\n",
    "                person_data.append((person, company_idx))\n",
    "                employee_count += 1\n",
    "\n",
    "        # MODEL 1\n",
    "        for i, (person, company_idx) in enumerate(person_data):\n",
    "            m1_person = person.copy()\n",
    "            m1_person[\"worksIn\"] = company_ids[company_idx]  # Reference to company\n",
    "            m1_people.insert_one(m1_person)\n",
    "        \n",
    "        # MODEL 2\n",
    "        for i, (person, company_idx) in enumerate(person_data):\n",
    "            m2_person = person.copy()\n",
    "            m2_person[\"worksIn\"] = company_data[company_idx]  # Embed company document\n",
    "            m2_people.insert_one(m2_person)\n",
    "        \n",
    "        # MODEL 3\n",
    "        persons_by_company = {}\n",
    "        for person, company_idx in person_data:\n",
    "            if company_idx not in persons_by_company:\n",
    "                persons_by_company[company_idx] = []\n",
    "            persons_by_company[company_idx].append(person.copy())\n",
    "        \n",
    "        for i, company in enumerate(company_data):\n",
    "            m3_company = company.copy()\n",
    "            m3_company[\"staff\"] = persons_by_company.get(i, [])\n",
    "            m3_companies.insert_one(m3_company)\n",
    "        \n",
    "        return num_companies, total_employees"
   ]
  },
  {
   "cell_type": "code",
   "execution_count": 261,
   "metadata": {},
   "outputs": [
    {
     "name": "stdout",
     "output_type": "stream",
     "text": [
      "Actual number of documents: 30 companies and 1094 people\n"
     ]
    }
   ],
   "source": [
    "if __name__ == \"__main__\":\n",
    "    lab = Lab2models()\n",
    "\n",
    "    num_companies = 30       \n",
    "    min_people = 25\n",
    "    max_people = 50\n",
    "\n",
    "    num_companies, actual_people = lab.data_generator(num_companies)\n",
    "  \n",
    "    print(f\"Actual number of documents: {num_companies} companies and {actual_people} people\")"
   ]
  },
  {
   "cell_type": "markdown",
   "metadata": {},
   "source": [
    "# Queries"
   ]
  },
  {
   "cell_type": "code",
   "execution_count": 262,
   "metadata": {},
   "outputs": [],
   "source": [
    "client = MongoClient('mongodb://localhost:27017/')\n",
    "db = client['lab2']"
   ]
  },
  {
   "cell_type": "markdown",
   "metadata": {},
   "source": [
    "### Q1: For each person, retrieve their full name and their company’s name."
   ]
  },
  {
   "cell_type": "code",
   "execution_count": 263,
   "metadata": {},
   "outputs": [],
   "source": [
    "def run_query(db, collection, pipeline, model_name):\n",
    "    print(f\"\\n# {model_name}\")\n",
    "    start_time = time.time()\n",
    "    results = list(db[collection].aggregate(pipeline))\n",
    "    \n",
    "    # show the first 3 results\n",
    "    for i, result in enumerate(results[:3]):\n",
    "        print(result)\n",
    "    if len(results) > 3:\n",
    "        print(f\"... and {len(results) - 3} other results\")\n",
    "    \n",
    "    generation_time = time.time() - start_time\n",
    "    print(f\"Time taken: {generation_time:.4f} seconds\")\n",
    "    \n",
    "    return generation_time"
   ]
  },
  {
   "cell_type": "code",
   "execution_count": 264,
   "metadata": {},
   "outputs": [],
   "source": [
    "q1_1 = [{\"$lookup\": {\"from\": \"m1_companies\", \"localField\": \"worksIn\", \"foreignField\": \"_id\", \"as\": \"companyName\"}},\n",
    "    {\"$unwind\": \"$companyName\"}, {\"$project\": {\"_id\": 0, \"fullName\": 1, \"companyName\": \"$companyName.name\"}}]\n",
    "\n",
    "q1_2 = [{\"$project\": {\"_id\": 0, \"fullName\": 1, \"companyName\": \"$worksIn.name\"}}]\n",
    "\n",
    "q1_3 = [{\"$unwind\": \"$staff\"},{\"$project\": {\"_id\": 0, \"fullName\": \"$staff.fullName\", \"companyName\": \"$name\"}}]"
   ]
  },
  {
   "cell_type": "code",
   "execution_count": 265,
   "metadata": {},
   "outputs": [
    {
     "name": "stdout",
     "output_type": "stream",
     "text": [
      "\n",
      "# Model 1: Two types of documents\n",
      "{'fullName': 'Ariel Romero', 'companyName': 'Banca Privada OLMJ S.L.N.E'}\n",
      "{'fullName': 'Amador Juan', 'companyName': 'Banca Privada OLMJ S.L.N.E'}\n",
      "{'fullName': 'Eugenia Nebot', 'companyName': 'Banca Privada OLMJ S.L.N.E'}\n",
      "... and 1091 other results\n",
      "Time taken: 0.0372 seconds\n",
      "\n",
      "# Model 2: One document for person with embedded company\n",
      "{'fullName': 'Ariel Romero', 'companyName': 'Banca Privada OLMJ S.L.N.E'}\n",
      "{'fullName': 'Amador Juan', 'companyName': 'Banca Privada OLMJ S.L.N.E'}\n",
      "{'fullName': 'Eugenia Nebot', 'companyName': 'Banca Privada OLMJ S.L.N.E'}\n",
      "... and 1091 other results\n",
      "Time taken: 0.0300 seconds\n",
      "\n",
      "# Model 3: One document for company with embedded people\n",
      "{'fullName': 'Ariel Romero', 'companyName': 'Banca Privada OLMJ S.L.N.E'}\n",
      "{'fullName': 'Amador Juan', 'companyName': 'Banca Privada OLMJ S.L.N.E'}\n",
      "{'fullName': 'Eugenia Nebot', 'companyName': 'Banca Privada OLMJ S.L.N.E'}\n",
      "... and 1091 other results\n",
      "Time taken: 0.0023 seconds\n"
     ]
    }
   ],
   "source": [
    "time_q1_1 = run_query(db, \"m1_people\", q1_1, \"Model 1: Two types of documents\")\n",
    "time_q1_2 = run_query(db, \"m2_people\", q1_2, \"Model 2: One document for person with embedded company\")\n",
    "time_q1_3 = run_query(db, \"m3_companies\", q1_3, \"Model 3: One document for company with embedded people\")"
   ]
  },
  {
   "cell_type": "code",
   "execution_count": 266,
   "metadata": {},
   "outputs": [
    {
     "name": "stdout",
     "output_type": "stream",
     "text": [
      "\n",
      "Model comparison:\n",
      "Model 1: 0.0372s, Model 2: 0.0300s, Model 3: 0.0023s\n",
      "The fastest model is: Model 3\n"
     ]
    }
   ],
   "source": [
    "# Comparison \n",
    "print(\"\\nModel comparison:\")\n",
    "print(f\"Model 1: {time_q1_1:.4f}s, Model 2: {time_q1_2:.4f}s, Model 3: {time_q1_3:.4f}s\")\n",
    "print(f\"The fastest model is: Model {1 if time_q1_1 < time_q1_2 and time_q1_1 < time_q1_3 else 2 if time_q1_2 < time_q1_3 else 3}\")"
   ]
  },
  {
   "cell_type": "markdown",
   "metadata": {},
   "source": [
    "### Q2: For each company, retrieve its name and the number of employees."
   ]
  },
  {
   "cell_type": "code",
   "execution_count": 267,
   "metadata": {},
   "outputs": [],
   "source": [
    "q2_1= [{\"$group\": {\"_id\": \"$worksIn\", \"employeeCount\":{\"$sum\": 1}}},\n",
    "       {\"$lookup\": {\"from\": \"m1_companies\", \"localField\": \"_id\", \"foreignField\": \"_id\", \"as\": \"companyName\"}},\n",
    "       {\"$unwind\": \"$companyName\"},\n",
    "       {\"$project\": {\"_id\": 0, \"companyName\": \"$companyName.name\", \"employeeCount\": 1}},\n",
    "       {\"$replaceRoot\": {\"newRoot\": { \"companyName\": \"$companyName\", \"employeeCount\": \"$employeeCount\"}}}] # for the order of the output, first company then number of employees\n",
    "\n",
    "q2_2 = [{\"$group\": {\"_id\": \"$worksIn._id\",\"companyName\": {\"$first\": \"$worksIn.name\"}, \"employeeCount\": {\"$sum\": 1}}},\n",
    "        {\"$project\": {\"_id\": 0,\"companyName\": 1,\"employeeCount\": 1}}]\n",
    "\n",
    "q2_3 = [{\"$project\": {\"_id\": 0, \"companyName\": \"$name\", \"employeeCount\": {\"$size\": \"$staff\"}}}]"
   ]
  },
  {
   "cell_type": "code",
   "execution_count": 268,
   "metadata": {},
   "outputs": [
    {
     "name": "stdout",
     "output_type": "stream",
     "text": [
      "\n",
      "# Model 1: Two types of documents\n",
      "{'companyName': 'Giménez y Torrents S.A.T.', 'employeeCount': 32}\n",
      "{'companyName': 'Hotel Avanzadas S.L.', 'employeeCount': 44}\n",
      "{'companyName': 'Distribuciones del Noroeste S.Coop.', 'employeeCount': 43}\n",
      "... and 27 other results\n",
      "Time taken: 0.0031 seconds\n",
      "\n",
      "# Model 2: One document for person with embedded company\n",
      "{'companyName': 'Giménez y Torrents S.A.T.', 'employeeCount': 32}\n",
      "{'companyName': 'Hotel Avanzadas S.L.', 'employeeCount': 44}\n",
      "{'companyName': 'Distribuciones del Noroeste S.Coop.', 'employeeCount': 43}\n",
      "... and 27 other results\n",
      "Time taken: 0.0015 seconds\n",
      "\n",
      "# Model 3: One document for company with embedded people\n",
      "{'companyName': 'Banca Privada OLMJ S.L.N.E', 'employeeCount': 25}\n",
      "{'companyName': 'Grupo Rocamora S.Com.', 'employeeCount': 48}\n",
      "{'companyName': 'Restauración CR S.Coop.', 'employeeCount': 33}\n",
      "... and 27 other results\n",
      "Time taken: 0.0005 seconds\n"
     ]
    }
   ],
   "source": [
    "time_q2_1 = run_query(db, \"m1_people\", q2_1, \"Model 1: Two types of documents\")\n",
    "time_q2_2 = run_query(db, \"m2_people\", q2_2, \"Model 2: One document for person with embedded company\")\n",
    "time_q2_3 = run_query(db, \"m3_companies\", q2_3, \"Model 3: One document for company with embedded people\")\n"
   ]
  },
  {
   "cell_type": "code",
   "execution_count": 269,
   "metadata": {},
   "outputs": [
    {
     "name": "stdout",
     "output_type": "stream",
     "text": [
      "\n",
      "Model comparison:\n",
      "Model 1: 0.0031s, Model 2: 0.0015s, Model 3: 0.0005s\n",
      "The fastest model is: Model 3\n"
     ]
    }
   ],
   "source": [
    "# Comparison \n",
    "print(\"\\nModel comparison:\")\n",
    "print(f\"Model 1: {time_q2_1:.4f}s, Model 2: {time_q2_2:.4f}s, Model 3: {time_q2_3:.4f}s\")\n",
    "print(f\"The fastest model is: Model {1 if time_q2_1 < time_q2_2 and time_q2_1 < time_q2_3 else 2 if time_q2_2 < time_q2_3 else 3}\")"
   ]
  }
 ],
 "metadata": {
  "kernelspec": {
   "display_name": ".venv",
   "language": "python",
   "name": "python3"
  },
  "language_info": {
   "codemirror_mode": {
    "name": "ipython",
    "version": 3
   },
   "file_extension": ".py",
   "mimetype": "text/x-python",
   "name": "python",
   "nbconvert_exporter": "python",
   "pygments_lexer": "ipython3",
   "version": "3.12.4"
  }
 },
 "nbformat": 4,
 "nbformat_minor": 2
}
