{
 "cells": [
  {
   "cell_type": "code",
   "execution_count": 114,
   "metadata": {},
   "outputs": [],
   "source": [
    "# libraries\n",
    "import datetime\n",
    "import time\n",
    "import json\n",
    "from pymongo import MongoClient\n",
    "from faker import Faker"
   ]
  },
  {
   "cell_type": "markdown",
   "metadata": {},
   "source": [
    "# Data generation"
   ]
  },
  {
   "cell_type": "code",
   "execution_count": 115,
   "metadata": {},
   "outputs": [],
   "source": [
    "class Lab2models:\n",
    "    def data_generator(self, num_companies, people_per_company):\n",
    "        # Connect to MongoDB - Note: added my local host\n",
    "        client = MongoClient('mongodb://localhost:27017/')\n",
    "        db = client['lab2']\n",
    "        # delete collection data if exists from all fo the 3 models\n",
    "        db.drop_collection(\"m1_people\")\n",
    "        db.drop_collection(\"m1_companies\")\n",
    "        db.drop_collection(\"m2_people\")\n",
    "        db.drop_collection(\"m3_companies\")\n",
    "        # create and obtain collections\n",
    "        m1_people = db.create_collection('m1_people')\n",
    "        m1_companies = db.create_collection('m1_companies')\n",
    "        m2_people = db.create_collection('m2_people')\n",
    "        m3_companies = db.create_collection('m3_companies')\n",
    "        # It will generate data in spanish: 'es_ES'\n",
    "        fake = Faker(['es_ES'])\n",
    "        # Generate company data\n",
    "        company_data = []\n",
    "        for i in range(num_companies):\n",
    "            company_name = fake.company()\n",
    "            domain = fake.domain_name()\n",
    "            company = {\n",
    "                \"domain\": domain,\n",
    "                \"email\": f\"info@{domain}\",\n",
    "                \"name\": company_name,\n",
    "                \"url\": f\"www.{domain}\",\n",
    "                \"vatNumber\": fake.bothify(text='??######')\n",
    "            }\n",
    "            company_data.append(company)\n",
    "        \n",
    "        # Insert companies for Model 1\n",
    "        company_ids = m1_companies.insert_many(company_data).inserted_ids\n",
    "\n",
    "        # Generate people's data\n",
    "        person_data = []\n",
    "        for i in range(num_companies * people_per_company):\n",
    "            company_idx = i % num_companies  # Distribute the people among companies\n",
    "            \n",
    "            if fake.random_element(elements=(True, False)):\n",
    "                first_name = fake.first_name_male()\n",
    "                sex = 'M'\n",
    "            else:\n",
    "                first_name = fake.first_name_female()\n",
    "                sex = 'F'\n",
    "                \n",
    "            last_name = fake.last_name()\n",
    "            full_name = f\"{first_name} {last_name}\"\n",
    "            birth_date = fake.date_of_birth(minimum_age=20, maximum_age=65)\n",
    "            birth_datetime = datetime.datetime.combine(birth_date, datetime.time())\n",
    "            age = (datetime.datetime.now().date() - birth_date).days // 365\n",
    "            \n",
    "            username_full = f\"{first_name.lower()}.{last_name.lower()}\".replace(\" \", \"\")\n",
    "            username_short = f\"{first_name.lower()[0]}{last_name.lower()}\".replace(\" \", \"\")\n",
    "            \n",
    "            person = {\n",
    "                \"age\": age,\n",
    "                \"companyEmail\": f\"{username_full}@{company_data[company_idx]['domain']}\",\n",
    "                \"dateOfBirth\": birth_datetime,\n",
    "                \"email\": f\"{username_short}@{fake.free_email_domain()}\",\n",
    "                \"firstName\": first_name,\n",
    "                \"fullName\": full_name,\n",
    "                \"sex\": sex \n",
    "            }\n",
    "            person_data.append((person, company_idx))\n",
    "\n",
    "        # MODEL 1\n",
    "        for i, (person, company_idx) in enumerate(person_data):\n",
    "            m1_person = person.copy()\n",
    "            m1_person[\"worksIn\"] = company_ids[company_idx]  # Reference to company\n",
    "            m1_people.insert_one(m1_person)\n",
    "        \n",
    "        # MODEL 2\n",
    "        for i, (person, company_idx) in enumerate(person_data):\n",
    "            m2_person = person.copy()\n",
    "            m2_person[\"worksIn\"] = company_data[company_idx]  # Embed company document\n",
    "            m2_people.insert_one(m2_person)\n",
    "        \n",
    "        # MODEL 3\n",
    "        persons_by_company = {}\n",
    "        for person, company_idx in person_data:\n",
    "            if company_idx not in persons_by_company:\n",
    "                persons_by_company[company_idx] = []\n",
    "            persons_by_company[company_idx].append(person.copy())\n",
    "        \n",
    "        for i, company in enumerate(company_data):\n",
    "            m3_company = company.copy()\n",
    "            m3_company[\"staff\"] = persons_by_company.get(i, [])\n",
    "            m3_companies.insert_one(m3_company)\n",
    "        \n",
    "        return num_companies, people_per_company\n",
    "        \n",
    "    def close_connection(self):\n",
    "        if hasattr(self, 'client'):\n",
    "            self.client.close()"
   ]
  },
  {
   "cell_type": "code",
   "execution_count": 116,
   "metadata": {},
   "outputs": [
    {
     "name": "stdout",
     "output_type": "stream",
     "text": [
      "Generating data for 30 companies with approximately 100 people per company...\n",
      "Total expected documents: 30 companies and 3000 people\n"
     ]
    }
   ],
   "source": [
    "if __name__ == \"__main__\":\n",
    "    lab = Lab2models()\n",
    "\n",
    "    num_companies = 30       \n",
    "    people_per_company = 100  \n",
    "    \n",
    "    print(f\"Generating data for {num_companies} companies with approximately {people_per_company} people per company...\")\n",
    "    print(f\"Total expected documents: {num_companies} companies and {num_companies * people_per_company} people\")"
   ]
  },
  {
   "cell_type": "markdown",
   "metadata": {},
   "source": [
    "# Queries"
   ]
  },
  {
   "cell_type": "code",
   "execution_count": 117,
   "metadata": {},
   "outputs": [],
   "source": [
    "client = MongoClient('mongodb://localhost:27017/')\n",
    "db = client['lab2']"
   ]
  },
  {
   "cell_type": "markdown",
   "metadata": {},
   "source": [
    "### Q1: For each person, retrieve their full name and their company’s name."
   ]
  },
  {
   "cell_type": "code",
   "execution_count": 118,
   "metadata": {},
   "outputs": [],
   "source": [
    "def run_query(db, collection, pipeline, model_name):\n",
    "    print(f\"\\n# {model_name}\")\n",
    "    start_time = time.time()\n",
    "    results = list(db[collection].aggregate(pipeline))\n",
    "    \n",
    "    # show the first 3 results\n",
    "    for i, result in enumerate(results[:3]):\n",
    "        print(result)\n",
    "    if len(results) > 3:\n",
    "        print(f\"... and {len(results) - 3} other results\")\n",
    "    \n",
    "    generation_time = time.time() - start_time\n",
    "    print(f\"Time taken: {generation_time:.4f} seconds\")\n",
    "    \n",
    "    return generation_time"
   ]
  },
  {
   "cell_type": "code",
   "execution_count": 119,
   "metadata": {},
   "outputs": [],
   "source": [
    "pipeline_1 = [{\"$lookup\": {\"from\": \"m1_companies\", \"localField\": \"worksIn\", \"foreignField\": \"_id\", \"as\": \"companyName\"}},\n",
    "    {\"$unwind\": \"$companyName\"}, {\"$project\": {\"_id\": 0, \"fullName\": 1, \"companyName\": \"$companyName.name\"}}]\n",
    "\n",
    "pipeline_2 = [{\"$project\": {\"_id\": 0, \"fullName\": 1, \"companyName\": \"$worksIn.name\"}}]\n",
    "\n",
    "pipeline_3 = [{\"$unwind\": \"$staff\"},{\"$project\": {\"_id\": 0, \"fullName\": \"$staff.fullName\", \"companyName\": \"$name\"}}]"
   ]
  },
  {
   "cell_type": "code",
   "execution_count": 120,
   "metadata": {},
   "outputs": [
    {
     "name": "stdout",
     "output_type": "stream",
     "text": [
      "\n",
      "# Model 1: Two types of documents\n",
      "{'fullName': 'Florencia Medina', 'companyName': 'Hnos Lara S.L.L.'}\n",
      "{'fullName': 'Ceferino Coca', 'companyName': 'Logística del Norte S.L.N.E'}\n",
      "{'fullName': 'Lourdes Piñeiro', 'companyName': 'Distribuciones Soler & Asociados S.Coop.'}\n",
      "... and 2997 other results\n",
      "Time taken: 0.0750 seconds\n",
      "\n",
      "# Model 2: One document for person with embedded company\n",
      "{'fullName': 'Florencia Medina', 'companyName': 'Hnos Lara S.L.L.'}\n",
      "{'fullName': 'Ceferino Coca', 'companyName': 'Logística del Norte S.L.N.E'}\n",
      "{'fullName': 'Lourdes Piñeiro', 'companyName': 'Distribuciones Soler & Asociados S.Coop.'}\n",
      "... and 2997 other results\n",
      "Time taken: 0.0074 seconds\n",
      "\n",
      "# Model 3: One document for company with embedded people\n",
      "{'fullName': 'Florencia Medina', 'companyName': 'Hnos Lara S.L.L.'}\n",
      "{'fullName': 'Florentino Robledo', 'companyName': 'Hnos Lara S.L.L.'}\n",
      "{'fullName': 'Calixto Manrique', 'companyName': 'Hnos Lara S.L.L.'}\n",
      "... and 2997 other results\n",
      "Time taken: 0.0055 seconds\n"
     ]
    }
   ],
   "source": [
    "time1 = run_query(db, \"m1_people\", pipeline_1, \"Model 1: Two types of documents\")\n",
    "time2 = run_query(db, \"m2_people\", pipeline_2, \"Model 2: One document for person with embedded company\")\n",
    "time3 = run_query(db, \"m3_companies\", pipeline_3, \"Model 3: One document for company with embedded people\")"
   ]
  },
  {
   "cell_type": "code",
   "execution_count": 121,
   "metadata": {},
   "outputs": [
    {
     "name": "stdout",
     "output_type": "stream",
     "text": [
      "\n",
      "Model comparison:\n",
      "Model 1: 0.0750s, Model 2: 0.0074s, Model 3: 0.0055s\n",
      "The fastest model is: Model 3\n"
     ]
    }
   ],
   "source": [
    "# Comparison \n",
    "print(\"\\nModel comparison:\")\n",
    "print(f\"Model 1: {time1:.4f}s, Model 2: {time2:.4f}s, Model 3: {time3:.4f}s\")\n",
    "print(f\"The fastest model is: Model {1 if time1 < time2 and time1 < time3 else 2 if time2 < time3 else 3}\")"
   ]
  }
 ],
 "metadata": {
  "kernelspec": {
   "display_name": ".venv",
   "language": "python",
   "name": "python3"
  },
  "language_info": {
   "codemirror_mode": {
    "name": "ipython",
    "version": 3
   },
   "file_extension": ".py",
   "mimetype": "text/x-python",
   "name": "python",
   "nbconvert_exporter": "python",
   "pygments_lexer": "ipython3",
   "version": "3.12.4"
  }
 },
 "nbformat": 4,
 "nbformat_minor": 2
}
